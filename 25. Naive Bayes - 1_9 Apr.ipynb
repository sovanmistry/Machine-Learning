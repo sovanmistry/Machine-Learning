{
 "cells": [
  {
   "cell_type": "markdown",
   "id": "23c4e5d6-04d4-458d-af0e-285bbc6d6914",
   "metadata": {},
   "source": [
    "## 9 Apr Naive Bayes - 1"
   ]
  },
  {
   "cell_type": "markdown",
   "id": "205d400b-1295-46e1-9185-474aaa21afd7",
   "metadata": {},
   "source": [
    "Q1. What is Bayes' theorem?\n",
    "\n",
    "Ans: \n",
    "    \n",
    "    Bayes' theorem is a fundamental concept in probability theory that describes the relationship between conditional probabilities. It is named after the 18th-century English statistician and philosopher, Thomas Bayes.\n",
    "\n",
    "    The theorem provides a way to update our belief or degree of uncertainty about a hypothesis or event, based on new evidence or information. It is expressed mathematically as follows:\n",
    "\n",
    "    P(A|B) = P(B|A) * P(A) / P(B)\n",
    "\n",
    "    where:\n",
    "\n",
    "    P(A|B) is the probability of event A given event B has occurred.\n",
    "    P(B|A) is the probability of event B given event A has occurred.\n",
    "    P(A) is the prior probability of event A.\n",
    "    P(B) is the probability of event B.\n",
    "    \n",
    "    Bayes' theorem can be used in a wide range of fields, including statistics, machine learning, and artificial intelligence. For example, it is used in Bayesian inference, which is a method of statistical inference that involves updating probabilities based on new data. It is also used in Bayesian networks, which are graphical models that represent probabilistic relationships between variables.\n"
   ]
  },
  {
   "cell_type": "code",
   "execution_count": null,
   "id": "edd93bf2-ab14-4f65-a795-36599de79c29",
   "metadata": {},
   "outputs": [],
   "source": []
  },
  {
   "cell_type": "markdown",
   "id": "6349a06e-883a-4266-afd5-886678c664a8",
   "metadata": {},
   "source": [
    "Q2. What is the formula for Bayes' theorem?\n",
    "\n",
    "Ans:\n",
    "\n",
    "\n",
    "    P(A|B) = P(B|A) * P(A) / P(B)\n",
    "\n",
    "    where:\n",
    "\n",
    "    P(A|B) is the probability of event A given event B has occurred.\n",
    "    P(B|A) is the probability of event B given event A has occurred.\n",
    "    P(A) is the prior probability of event A.\n",
    "    P(B) is the probability of event B."
   ]
  },
  {
   "cell_type": "code",
   "execution_count": null,
   "id": "69533090-68a2-4b70-b432-9b480e32c325",
   "metadata": {},
   "outputs": [],
   "source": []
  },
  {
   "cell_type": "markdown",
   "id": "8c5b885a-84e4-4162-9c15-0403abcf8a11",
   "metadata": {},
   "source": [
    "Q3. How is Bayes' theorem used in practice?\n",
    "\n",
    "Ans: \n",
    "    \n",
    "    Bayes' theorem is used in a wide range of practical applications, including:\n",
    "\n",
    "    1. Spam filtering: Bayes' theorem is used in spam filtering algorithms to classify incoming emails as spam or not spam. The algorithm calculates the probability that an email is spam based on the presence of certain keywords and phrases in the email, as well as other factors such as the sender's email address.\n",
    "\n",
    "    2. Medical diagnosis: Bayes' theorem is used in medical diagnosis to calculate the probability of a patient having a certain disease based on symptoms, medical history, and test results.\n",
    "\n",
    "    3. Predictive modeling: Bayes' theorem is used in predictive modeling to update the probability of a certain outcome based on new data. For example, in a weather forecasting model, Bayes' theorem can be used to update the probability of rain based on new weather observations.\n",
    "\n",
    "    4. Fraud detection: Bayes' theorem is used in fraud detection systems to calculate the probability of a transaction being fraudulent based on various factors such as the location of the transaction, the amount, and the history of the user.\n",
    "\n",
    "    5. Recommendation systems: Bayes' theorem is used in recommendation systems to calculate the probability that a user will like a certain item based on their past behavior and the behavior of other users."
   ]
  },
  {
   "cell_type": "code",
   "execution_count": null,
   "id": "bf63812a-53d9-4519-97d6-25ee92ccf2b7",
   "metadata": {},
   "outputs": [],
   "source": []
  },
  {
   "cell_type": "markdown",
   "id": "06393de5-1bae-40a1-966f-c47273f0205d",
   "metadata": {},
   "source": [
    "Q4. What is the relationship between Bayes' theorem and conditional probability?\n",
    "\n",
    "Ans:\n",
    "\n",
    "    Bayes' theorem is a mathematical formula that describes the relationship between conditional probabilities. Conditional probability is the probability of an event occurring given that another event has occurred.\n",
    "\n",
    "    Bayes' theorem is a way to update our belief or degree of uncertainty about an event or hypothesis based on new evidence or information. It allows us to calculate the probability of an event A given that another event B has occurred, using the conditional probability of event B given event A, as well as the prior probability of event A and the probability of event B.\n",
    "\n",
    "    Mathematically, Bayes' theorem can be expressed as:\n",
    "\n",
    "    P(A|B) = P(B|A) * P(A) / P(B)\n",
    "\n",
    "    where P(A|B) is the probability of event A given event B has occurred, P(B|A) is the probability of event B given event A has occurred, P(A) is the prior probability of event A, and P(B) is the probability of event B."
   ]
  },
  {
   "cell_type": "code",
   "execution_count": null,
   "id": "915a4d46-c9f4-4c55-ba80-b2d8c0bd4528",
   "metadata": {},
   "outputs": [],
   "source": []
  },
  {
   "cell_type": "markdown",
   "id": "fd2dba58-ce83-4595-a325-1e3bb56dd90e",
   "metadata": {},
   "source": [
    "Q5. How do you choose which type of Naive Bayes classifier to use for any given problem?\n",
    "\n",
    "Ans: \n",
    "    \n",
    "    Here are some general guidelines on how to choose which type of Naive Bayes classifier to use:\n",
    "\n",
    "    Gaussian Naive Bayes: This type of classifier assumes that the features of the data are normally distributed. It is typically used for continuous data where the values of the features are real numbers. Gaussian Naive Bayes is often used in problems related to natural language processing or image recognition, where the features may represent pixel intensities or word frequencies.\n",
    "\n",
    "    Multinomial Naive Bayes: This type of classifier is used for discrete data, where the values of the features represent counts or frequencies. Multinomial Naive Bayes is often used in problems related to text classification, where the features represent word frequencies or presence/absence of certain words.\n",
    "\n",
    "    Bernoulli Naive Bayes: This type of classifier is similar to Multinomial Naive Bayes, but it assumes that the features are binary (0 or 1). Bernoulli Naive Bayes is often used in problems where the features represent presence/absence of certain features, such as spam filtering or sentiment analysis."
   ]
  },
  {
   "cell_type": "code",
   "execution_count": null,
   "id": "f121488c-45cc-4604-865d-f0aa3c8de9e7",
   "metadata": {},
   "outputs": [],
   "source": []
  },
  {
   "cell_type": "markdown",
   "id": "249d8a7f-ae26-4e26-9ad3-123b630a5b57",
   "metadata": {},
   "source": [
    "Q6. Assignment:\n",
    "    \n",
    "You have a dataset with two features, X1 and X2, and two possible classes, A and B. You want to use Naive \n",
    "Bayes to classify a new instance with features X1 = 3 and X2 = 4. The following table shows the frequency of \n",
    "each feature value for each class:\n",
    "\n",
    "Class\t X1=1 X1=2 \tX1=3 \tX2=1 \tX2=2 \tX2=3\t X2=4\n",
    "\n",
    " A\t 3\t 3\t 4\t 4\t 3\t 3\t 3\n",
    "\n",
    " B\t 2\t 2\t 1\t 2\t 2\t 2\t 3\n",
    "\n",
    "Assuming equal prior probabilities for each class, which class would Naive Bayes predict the new instance \n",
    "to belong to?"
   ]
  },
  {
   "cell_type": "code",
   "execution_count": null,
   "id": "bf85130d-7cce-46a4-9fcc-2f339e36b98a",
   "metadata": {},
   "outputs": [],
   "source": [
    "P(A | X1=3, X2=4) = P(X1=3 | A) * P(X2=4 | A) * P(A) / P(X1=3, X2=4)\n",
    "\n"
   ]
  }
 ],
 "metadata": {
  "kernelspec": {
   "display_name": "Python 3 (ipykernel)",
   "language": "python",
   "name": "python3"
  },
  "language_info": {
   "codemirror_mode": {
    "name": "ipython",
    "version": 3
   },
   "file_extension": ".py",
   "mimetype": "text/x-python",
   "name": "python",
   "nbconvert_exporter": "python",
   "pygments_lexer": "ipython3",
   "version": "3.10.8"
  }
 },
 "nbformat": 4,
 "nbformat_minor": 5
}
