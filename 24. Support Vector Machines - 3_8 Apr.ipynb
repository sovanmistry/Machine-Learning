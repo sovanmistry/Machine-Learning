{
 "cells": [
  {
   "cell_type": "markdown",
   "id": "2126e381-1c46-4f6e-985f-a906ead95456",
   "metadata": {},
   "source": [
    "## 8 Apr Support Vector Machines - 3"
   ]
  },
  {
   "cell_type": "markdown",
   "id": "e3cc87fa-17ed-4145-99c7-cdeddf58eddb",
   "metadata": {},
   "source": [
    "Q1. In order to predict house price based on several characteristics, such as location, square footage, \n",
    "number of bedrooms, etc., you are developing an SVM regression model. Which regression metric in this \n",
    "situation would be the best to employ\n",
    "\n",
    "Ans:\n",
    "\n",
    "Mean Squared Error"
   ]
  },
  {
   "cell_type": "code",
   "execution_count": null,
   "id": "fc9b0714-186c-4fd2-bc38-a130b7e6d096",
   "metadata": {},
   "outputs": [],
   "source": []
  },
  {
   "cell_type": "markdown",
   "id": "aaa1336f-b8a2-497b-ae2a-21ec3636d6d8",
   "metadata": {},
   "source": [
    "Q2. You have built an SVM regression model and are trying to decide between using MSE or R-squared as \n",
    "your evaluation metric. Which metric would be more appropriate if your goal is to predict the actual price \n",
    "of a house as accurately as possible?\n",
    "\n",
    "Ans: \n",
    "\n",
    "MSE"
   ]
  },
  {
   "cell_type": "code",
   "execution_count": null,
   "id": "4ee53f55-0925-409f-a21b-adeb3fa92c3c",
   "metadata": {},
   "outputs": [],
   "source": []
  },
  {
   "cell_type": "markdown",
   "id": "1b20d822-25c0-4364-bb2b-094f2798fec1",
   "metadata": {},
   "source": [
    "Q3. You have a dataset with a significant number of outliers and are trying to select an appropriate \n",
    "regression metric to use with your SVM model. Which metric would be the most appropriate in this \n",
    "scenario?\n",
    "\n",
    "Ans:\n",
    "    \n",
    "Mean Absolute Error"
   ]
  },
  {
   "cell_type": "code",
   "execution_count": null,
   "id": "6a14f245-8d86-4c5a-8af6-6b57d4f37030",
   "metadata": {},
   "outputs": [],
   "source": []
  },
  {
   "cell_type": "markdown",
   "id": "91dc37b0-ede6-44a0-8225-bf645a49a9ad",
   "metadata": {},
   "source": [
    "Q4. You have built an SVM regression model using a polynomial kernel and are trying to select the best \n",
    "metric to evaluate its performance. You have calculated both MSE and RMSE and found that both values \n",
    "are very close. Which metric should you choose to use in this case?\n",
    "\n",
    "Ans:\n",
    "    \n",
    "as both MSE and RMSE is very close. we will choose RMSE , it will help us to interpreate easily."
   ]
  },
  {
   "cell_type": "code",
   "execution_count": null,
   "id": "eef3e366-80fd-4493-8e16-5c0d12c873ad",
   "metadata": {},
   "outputs": [],
   "source": []
  },
  {
   "cell_type": "code",
   "execution_count": null,
   "id": "6492aacd-d294-444e-99a6-7cc69e2fa80b",
   "metadata": {},
   "outputs": [],
   "source": [
    "Q5. You are comparing the performance of different SVM regression models using different kernels (linear, \n",
    "polynomial, and RBF) and are trying to select the best evaluation metric. Which metric would be most \n",
    "appropriate if your goal is to measure how well the model explains the variance in the target variable?\n",
    "\n",
    "Ans:\n",
    "    \n"
   ]
  }
 ],
 "metadata": {
  "kernelspec": {
   "display_name": "Python 3 (ipykernel)",
   "language": "python",
   "name": "python3"
  },
  "language_info": {
   "codemirror_mode": {
    "name": "ipython",
    "version": 3
   },
   "file_extension": ".py",
   "mimetype": "text/x-python",
   "name": "python",
   "nbconvert_exporter": "python",
   "pygments_lexer": "ipython3",
   "version": "3.10.8"
  }
 },
 "nbformat": 4,
 "nbformat_minor": 5
}
