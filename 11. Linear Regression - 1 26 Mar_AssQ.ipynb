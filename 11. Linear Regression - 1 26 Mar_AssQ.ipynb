{
 "cells": [
  {
   "cell_type": "markdown",
   "id": "3a10b203-44d7-4ad3-8c38-0e4ad935b329",
   "metadata": {},
   "source": [
    "### 26 Mar_AssQ LINEAR REGRESSION - 1"
   ]
  },
  {
   "cell_type": "code",
   "execution_count": null,
   "id": "b7be81f7-50c3-4840-b71a-a809afb0246a",
   "metadata": {},
   "outputs": [],
   "source": []
  },
  {
   "cell_type": "markdown",
   "id": "9d0d6b17-8f85-4f79-9054-0e43b193241d",
   "metadata": {},
   "source": [
    "Q1. Explain the difference between simple linear regression and multiple linear regression. Provide an\n",
    "example of each.\n",
    "\n",
    "ans: \n",
    "    \n",
    "difference between simple linear regression and multiple linear regression: \n",
    "\n",
    "    Simple linear regression has only one x and one y variable.\n",
    "\n",
    "    Multiple linear regression has one y and two or more x variables.\n",
    "\n",
    "Example : \n",
    "    \n",
    "    For instance, when we predict rent based on square feet alone that is simple linear regression.\n",
    "\n",
    "    When we predict rent based on square feet and age of the building that is an example of multiple linear regression.\n"
   ]
  },
  {
   "cell_type": "code",
   "execution_count": null,
   "id": "1fbb86dd-fb24-4b28-8a58-b39ab769e99f",
   "metadata": {},
   "outputs": [],
   "source": []
  },
  {
   "cell_type": "markdown",
   "id": "74f36248-99dc-4ec5-8b41-aea132888365",
   "metadata": {},
   "source": [
    "Q2. Discuss the assumptions of linear regression. How can you check whether these assumptions hold in\n",
    "a given dataset?\n",
    "\n",
    "ans:\n",
    "    \n",
    "Assumptions of linear regression:\n",
    "    \n",
    "    Linear relationship:\n",
    "        \n",
    "        linear regression needs the relationship between the independent and dependent variables to be linear.  It is also important to check for outliers since linear regression is sensitive to outlier effects\n",
    "        \n",
    "    Multivariate normality:\n",
    "    \n",
    "        the linear regression analysis requires all variables to be multivariate normal.  This assumption can best be checked with a histogram or a Q-Q-Plot.  Normality can be checked with a goodness of fit test, e.g., the Kolmogorov-Smirnov test.  When the data is not normally distributed a non-linear transformation (e.g., log-transformation) might fix this issue\n",
    "    \n",
    "    No or little multicollinearity:\n",
    "        \n",
    "        Multicollinearity occurs when the independent variables are too highly correlated with each other.\n",
    "    \n",
    "    No auto-correlation\n",
    "        \n",
    "        linear regression analysis requires that there is little or no autocorrelation in the data.  Autocorrelation occurs when the residuals are not independent from each other.  In other words when the value of y(x+1) is not independent from the value of y(x).\n",
    "        \n"
   ]
  },
  {
   "cell_type": "code",
   "execution_count": null,
   "id": "8c6e763b-f18a-4e91-9fc1-9d195c1f0457",
   "metadata": {},
   "outputs": [],
   "source": []
  },
  {
   "cell_type": "markdown",
   "id": "ea1b2242-d961-412c-b1be-7a688f8faf66",
   "metadata": {},
   "source": [
    "Q3. How do you interpret the slope and intercept in a linear regression model? Provide an example using\n",
    "a real-world scenario.\n",
    "\n",
    "ans:\n",
    "    \n",
    "In a linear regression model, the slope represents the change in the dependent variable (Y) for every one-unit increase in the independent variable (X). The intercept represents the value of Y when X is equal to 0. The slope and intercept are important parameters in a linear regression model as they help to estimate the relationship between the dependent and independent variables.\n",
    "\n",
    "For example, let's consider a real-world scenario where we want to predict the sales of a product based on its price. We can use linear regression to model the relationship between sales and price. "
   ]
  },
  {
   "cell_type": "code",
   "execution_count": null,
   "id": "ed01d846-cb7b-41bc-9d12-99ea50cc553c",
   "metadata": {},
   "outputs": [],
   "source": []
  },
  {
   "cell_type": "markdown",
   "id": "90dfd87d-562f-4b8b-9520-4cdae7fc39a6",
   "metadata": {},
   "source": [
    "Q4. Explain the concept of gradient descent. How is it used in machine learning?\n",
    "\n",
    "ans: \n",
    "    \n",
    "Gradient descent is an optimization algorithm used in machine learning to find the optimal solution for a given problem. The basic idea behind gradient descent is to iteratively adjust the parameters of a model in the direction of the negative gradient of the loss function, in order to minimize the error between the predicted and actual values.\n",
    "\n",
    "In machine learning, gradient descent is commonly used in the training process of models, such as linear regression and neural networks. During training, the goal is to minimize the difference between the predicted and actual values, which is measured using a loss function. The loss function depends on the model parameters, and by using gradient descent, we can update the parameters to minimize the loss function.\n",
    "\n",
    "In summary, gradient descent is an important optimization algorithm in machine learning that is used to iteratively update the model parameters to minimize the loss function. By using gradient descent, we can train models that can accurately predict the outcomes of new data."
   ]
  },
  {
   "cell_type": "code",
   "execution_count": null,
   "id": "557430b0-138f-4f76-8372-2d962b5950dd",
   "metadata": {},
   "outputs": [],
   "source": []
  },
  {
   "cell_type": "markdown",
   "id": "abb169d8-29ad-4210-8388-1680952df110",
   "metadata": {},
   "source": [
    "Q5. Describe the multiple linear regression model. How does it differ from simple linear regression?\n",
    "\n",
    "ans: \n",
    "\n",
    "Multiple linear regression has one y and two or more x variables.\n",
    "    \n",
    "difference between simple linear regression and multiple linear regression: \n",
    "\n",
    "    Simple linear regression has only one x and one y variable.\n",
    "\n",
    "    Multiple linear regression has one y and two or more x variables.\n"
   ]
  },
  {
   "cell_type": "code",
   "execution_count": null,
   "id": "75571140-25db-43ab-a261-4bfab9fa63e5",
   "metadata": {},
   "outputs": [],
   "source": []
  },
  {
   "cell_type": "markdown",
   "id": "077f32de-ac08-4f3a-b27f-057970fe1086",
   "metadata": {},
   "source": [
    "Q6. Explain the concept of multicollinearity in multiple linear regression. How can you detect and\n",
    "address this issue?\n",
    "\n",
    "ams:\n",
    "\n",
    "Multicollinearity:\n",
    "    Multicollinearity is a common problem that can occur in multiple linear regression when two or more independent variables are highly correlated with each other. In this scenario, it becomes difficult to distinguish the individual effects of each independent variable on the dependent variable, and the coefficient estimates of the independent variables may become unstable and unreliable.\n",
    "    \n",
    "To detect multicollinearity, we can calculate the correlation matrix of the independent variables and look for high correlations between them\n",
    "To address this issue we can use Ridge Regression / l2 Regression."
   ]
  },
  {
   "cell_type": "code",
   "execution_count": null,
   "id": "a6a43def-2e70-4d5b-b14f-30d3637299bc",
   "metadata": {},
   "outputs": [],
   "source": []
  },
  {
   "cell_type": "markdown",
   "id": "193cb29c-9d69-4964-a21c-5c1461cfd9c9",
   "metadata": {},
   "source": [
    "Q7. Describe the polynomial regression model. How is it different from linear regression?\n",
    "\n",
    "ans:\n",
    "    \n",
    "Polynomial Regression Model:\n",
    "    \n",
    "    Polynomial regression is a form of regression analysis that allows us to model the relationship between a dependent variable and an independent variable as an nth degree polynomial. The polynomial regression equation can be written as:\n",
    "\n",
    "y = β₀ + β₁x + β₂x² + β₃x³ + ... + βₙxⁿ + ε\n",
    "\n",
    "where y is the dependent variable, x is the independent variable, β₀, β₁, β₂, ..., βₙ are the coefficients of the polynomial terms, ε is the error term, and n is the degree of the polynomial."
   ]
  },
  {
   "cell_type": "code",
   "execution_count": null,
   "id": "17242bea-361f-462b-8471-630671022efd",
   "metadata": {},
   "outputs": [],
   "source": []
  },
  {
   "cell_type": "markdown",
   "id": "a0587311-5245-44b7-b7c3-2c3dd527d8cb",
   "metadata": {},
   "source": [
    "Q8. What are the advantages and disadvantages of polynomial regression compared to linear\n",
    "regression? In what situations would you prefer to use polynomial regression?\n",
    "\n",
    "ans:\n",
    "    \n",
    "Advantages of Polynomial Regression:\n",
    "\n",
    "    Capturing Non-Linear Relationships: Polynomial regression can capture non-linear relationships between the dependent and independent variables that linear regression cannot.\n",
    "\n",
    "    Flexibility: Polynomial regression is more flexible than linear regression because it can model more complex relationships between variables.\n",
    "\n",
    "Disadvantages of Polynomial Regression:\n",
    "\n",
    "    Overfitting: One of the main disadvantages of polynomial regression is that it can easily overfit the data if the degree of the polynomial is too high. This means that the model fits the noise in the data instead of the underlying relationship.\n",
    "\n",
    "    Computational Complexity: As the degree of the polynomial increases, the model becomes more computationally complex, which can lead to longer computation times and increased memory usage.\n",
    "\n",
    "    Extrapolation: Polynomial regression can lead to inaccurate predictions when extrapolating beyond the range of the data, as the model may not be able to accurately capture the underlying relationship.\n",
    "\n",
    "Polynomial Regression used in :\n",
    "\n",
    "    In general, polynomial regression is preferred over linear regression when the relationship between the dependent and independent variables is non-linear. However, it is important to choose the degree of the polynomial carefully to avoid overfitting. A good approach is to try different degrees of the polynomial and evaluate the performance of the model using cross-validation. In addition, polynomial regression should be used with caution when extrapolating beyond the range of the data."
   ]
  },
  {
   "cell_type": "code",
   "execution_count": null,
   "id": "1b60dfdb-05d2-4026-8da7-bd38e38e0931",
   "metadata": {},
   "outputs": [],
   "source": []
  }
 ],
 "metadata": {
  "kernelspec": {
   "display_name": "Python 3 (ipykernel)",
   "language": "python",
   "name": "python3"
  },
  "language_info": {
   "codemirror_mode": {
    "name": "ipython",
    "version": 3
   },
   "file_extension": ".py",
   "mimetype": "text/x-python",
   "name": "python",
   "nbconvert_exporter": "python",
   "pygments_lexer": "ipython3",
   "version": "3.10.8"
  }
 },
 "nbformat": 4,
 "nbformat_minor": 5
}
