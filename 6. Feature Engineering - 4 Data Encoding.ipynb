{
 "cells": [
  {
   "cell_type": "markdown",
   "id": "83cae041-d4b1-4c48-bc06-4e629c4d303d",
   "metadata": {},
   "source": [
    "### 20 Mar Assignments - Data Encoding"
   ]
  },
  {
   "cell_type": "markdown",
   "id": "26c21629-98e4-43f3-a816-f67e719c4ba1",
   "metadata": {},
   "source": [
    "Q1. What is data encoding? How is it useful in data science?\n",
    "\n",
    "ans:\n",
    "    \n",
    "    Data Encoding is a technique to convert categorical features into Numerical Feature, so that it can easily fitted into MC model\n",
    "    \n",
    "    Models only work with numerical values. For this reason, it is necessary to convert the categorical values of the features into numerical ones, So the machine can learn from those data and gives the right model. "
   ]
  },
  {
   "cell_type": "code",
   "execution_count": null,
   "id": "ad964b19-e3da-47ef-8504-79057c3b118a",
   "metadata": {},
   "outputs": [],
   "source": []
  },
  {
   "cell_type": "markdown",
   "id": "59b1c27b-be2a-4268-9b3c-cc9cb24009db",
   "metadata": {},
   "source": [
    "Q2. What is nominal encoding? Provide an example of how you would use it in a real-world scenario.\n",
    "\n",
    "ans: \n",
    "    \n",
    "    Nominal Encoding is a technique used to transform categorical variables that have no intrinsic ordering into Numerical Values.\n",
    "    \n",
    "    we have 3 groups \n",
    "    Color    Red      Green    Blue\n",
    "    Red       1         0       0\n",
    "    Green     0         1       0\n",
    "    Blue      0         0       1"
   ]
  },
  {
   "cell_type": "code",
   "execution_count": null,
   "id": "2b87fbde-37e0-4cb7-8f44-c57ce7e5c714",
   "metadata": {},
   "outputs": [],
   "source": []
  },
  {
   "cell_type": "markdown",
   "id": "44c5bc53-fef6-4e44-b818-d5dfe6ad92f3",
   "metadata": {},
   "source": [
    "Q3. In what situations is nominal encoding preferred over one-hot encoding? Provide a practical example.\n",
    "\n",
    "ans: \n",
    "    \n",
    "    Nominal Encoding can be effective if we have less categorical variables (<5)\n",
    "    \n",
    "    we have a task to encode below 3 groups, then Nominal Encoding is helpful.\n",
    "\n",
    "        Color    Red      Green    Blue\n",
    "        Red       1         0       0\n",
    "        Green     0         1       0\n",
    "        Blue      0         0       1"
   ]
  },
  {
   "cell_type": "code",
   "execution_count": null,
   "id": "50f672b6-b03e-4f97-a912-1c1bdd39ac18",
   "metadata": {},
   "outputs": [],
   "source": []
  },
  {
   "cell_type": "markdown",
   "id": "37239bbc-0ed6-4081-bf13-6540a3329fb6",
   "metadata": {},
   "source": [
    "Q4. Suppose you have a dataset containing categorical data with 5 unique values. Which encoding\n",
    "technique would you use to transform this data into a format suitable for machine learning algorithms?\n",
    "Explain why you made this choice.\n",
    "\n",
    "ans: \n",
    "    \n",
    "    Nominal Encoding\n",
    "    \n",
    "    as we have less no of categories Nominal Encoding helps here"
   ]
  },
  {
   "cell_type": "code",
   "execution_count": null,
   "id": "3a02f4d4-02fe-457a-84ac-cf19ad3bcd07",
   "metadata": {},
   "outputs": [],
   "source": []
  },
  {
   "cell_type": "markdown",
   "id": "32aaebb3-7cd8-4c49-8a33-bdaba458ff3a",
   "metadata": {},
   "source": [
    "Q5. In a machine learning project, you have a dataset with 1000 rows and 5 columns. Two of the columns\n",
    "are categorical, and the remaining three columns are numerical. If you were to use nominal encoding to\n",
    "transform the categorical data, how many new columns would be created? Show your calculations.\n",
    "\n",
    "ans:\n",
    "    \n",
    "    column = 5 \n",
    "    categorical column = 2 \n",
    "    rows = 1000\n",
    "    Nominal Encoding\n",
    "    \n",
    "    maximum new_Columns =  1000+1 = 1001"
   ]
  },
  {
   "cell_type": "code",
   "execution_count": null,
   "id": "7576d583-b6a9-4480-b5f2-606e823bcdcb",
   "metadata": {},
   "outputs": [],
   "source": []
  },
  {
   "cell_type": "markdown",
   "id": "b0d05b01-e3f6-4357-bf68-82303704bd43",
   "metadata": {},
   "source": [
    "Q6. You are working with a dataset containing information about different types of animals, including their\n",
    "species, habitat, and diet. Which encoding technique would you use to transform the categorical data into\n",
    "a format suitable for machine learning algorithms? Justify your answer.\n",
    "\n",
    "ans:\n",
    "\n",
    "    I will choose Ordinal Encoding\n",
    "    will assign labels to each type of animal \n",
    "    \n",
    "    \n",
    "    \n",
    "    "
   ]
  },
  {
   "cell_type": "code",
   "execution_count": null,
   "id": "a62718cb-215f-4200-bf3e-b6a4a03f757d",
   "metadata": {},
   "outputs": [],
   "source": []
  },
  {
   "cell_type": "markdown",
   "id": "3e37eb49-a41b-4891-a0dc-39d52d22c31d",
   "metadata": {},
   "source": [
    "Q7.You are working on a project that involves predicting customer churn for a telecommunications\n",
    "company. You have a dataset with 5 features, including the customer's gender, age, contract type,\n",
    "monthly charges, and tenure. Which encoding technique(s) would you use to transform the categorical\n",
    "data into numerical data? Provide a step-by-step explanation of how you would implement the encoding.\n",
    "\n",
    "ans: \n",
    "    \n",
    "    gender : can use Nominal Encoding\n",
    "    Age : It should already contain numeric; no Encoding needed \n",
    "    Contract type: Ordinal Encoding ; as we can give some priorty\n",
    "    Monthly Charges : It should already contain numeric; no Encoding needed \n",
    "    Tenure : Ordinal Encoding - we can give some priorty"
   ]
  },
  {
   "cell_type": "code",
   "execution_count": null,
   "id": "c2027594-3855-4406-a648-81f7b19f8187",
   "metadata": {},
   "outputs": [],
   "source": []
  }
 ],
 "metadata": {
  "kernelspec": {
   "display_name": "Python 3 (ipykernel)",
   "language": "python",
   "name": "python3"
  },
  "language_info": {
   "codemirror_mode": {
    "name": "ipython",
    "version": 3
   },
   "file_extension": ".py",
   "mimetype": "text/x-python",
   "name": "python",
   "nbconvert_exporter": "python",
   "pygments_lexer": "ipython3",
   "version": "3.10.8"
  }
 },
 "nbformat": 4,
 "nbformat_minor": 5
}
