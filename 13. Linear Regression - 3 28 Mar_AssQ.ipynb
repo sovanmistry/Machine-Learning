{
 "cells": [
  {
   "cell_type": "markdown",
   "id": "cffc9883-e453-470a-bdf8-80136d9c245d",
   "metadata": {},
   "source": [
    "### 28 Mar_AssQ LINEAR REGRESSION- 3"
   ]
  },
  {
   "cell_type": "code",
   "execution_count": null,
   "id": "6c903c6d-8d27-40b4-8b3a-d4fcc8edc7d9",
   "metadata": {},
   "outputs": [],
   "source": []
  },
  {
   "cell_type": "markdown",
   "id": "b4a98137-f9fa-42c1-bd6a-58e52811559e",
   "metadata": {},
   "source": [
    "Q1. What is Ridge Regression, and how does it differ from ordinary least squares regression?\n",
    "\n",
    "ans:\n",
    "\n",
    "Ridge Regression:\n",
    "\n",
    "    In order to avoid Overfitting we need to use Rdge Regression. Also it helps us to eliminate Multicollienarity.\n",
    "\n",
    "Difference between Ridge Regression and Ordinary Least Square Regression:\n",
    "    \n",
    "    The difference between ridge regression and OLS regression is that ridge regression adds a penalty term to the objective function to constrain the magnitude of the regression coefficients, whereas OLS regression does not."
   ]
  },
  {
   "cell_type": "code",
   "execution_count": null,
   "id": "97f091f9-be8b-487e-982c-a3e91265017e",
   "metadata": {},
   "outputs": [],
   "source": []
  },
  {
   "cell_type": "markdown",
   "id": "0c8229ed-a7db-4f75-87a3-46cc6b5776f9",
   "metadata": {},
   "source": [
    "Q2. What are the assumptions of Ridge Regression?\n",
    "\n",
    "ans: \n",
    "    \n",
    "    Linearity: \n",
    "        The relationship between the predictor variables and the response variable is assumed to be linear.\n",
    "\n",
    "    Independence: \n",
    "        The observations in the dataset are assumed to be independent of each other.\n",
    "\n",
    "    Homoscedasticity: \n",
    "        The variance of the error term is assumed to be constant across all values of the predictor variables.\n",
    "\n",
    "    Normality:\n",
    "        The error term is assumed to be normally distributed.\n",
    "\n",
    "    No multicollinearity: \n",
    "        The predictor variables are assumed to be independent of each other, with no significant correlation between them."
   ]
  },
  {
   "cell_type": "code",
   "execution_count": null,
   "id": "5cbed47e-a770-4acd-9647-ae122c611af5",
   "metadata": {},
   "outputs": [],
   "source": []
  },
  {
   "cell_type": "markdown",
   "id": "30c6c38f-b390-4191-a650-13f3a2121134",
   "metadata": {},
   "source": [
    "Q3. How do you select the value of the tuning parameter (lambda) in Ridge Regression?\n",
    "\n",
    "Ans:\n",
    "    \n",
    "The tuning parameter, lambda, controls the strength of the penalty term in ridge regression. The value of lambda needs to be chosen carefully to balance the trade-off between bias and variance in the model.\n",
    "\n",
    "If Lambda increases Slope will decrese\n",
    "if lambda decrease slope will increase\n",
    "There are several methods to select the value of lambda in ridge regression:\n",
    "\n",
    "Cross-validation: Cross-validation is a widely used method to select the value of lambda. In this method, the dataset is randomly divided into k-folds. For each value of lambda, the model is trained on k-1 folds and tested on the remaining fold. This process is repeated k times, with each fold used once as the test set. The average error across all the folds is then calculated for each value of lambda, and the value of lambda that minimizes the error is selected.\n",
    "\n",
    "Ridge trace plot: A ridge trace plot can be used to visualize the relationship between lambda and the coefficients in the model. The plot shows the values of the coefficients for different values of lambda. The value of lambda where the coefficients start to stabilize can be selected as the optimal value of lambda.\n",
    "\n",
    "Analytical solution: In some cases, an analytical solution can be used to determine the optimal value of lambda. This involves finding the value of lambda that minimizes the residual sum of squares (RSS) plus the penalty term."
   ]
  },
  {
   "cell_type": "code",
   "execution_count": null,
   "id": "81b90e9f-e0d7-4c3c-9309-ff7713309e93",
   "metadata": {},
   "outputs": [],
   "source": []
  },
  {
   "cell_type": "markdown",
   "id": "d4f173fe-d0de-49f6-b936-cf53ffa723fe",
   "metadata": {},
   "source": [
    "Q4. Can Ridge Regression be used for feature selection? If yes, how?\n",
    "\n",
    "ans:\n",
    "    \n",
    "Yes, Ridge Regression can be used for feature selection by shrinking the coefficients of the less important variables towards zero. This is achieved by increasing the value of the regularization parameter, lambda, in the Ridge Regression model.\n",
    "\n",
    "As lambda increases, the magnitude of the coefficients decreases, and some coefficients may become exactly zero. This means that the corresponding variables are effectively removed from the model, and their contribution to the output is eliminated."
   ]
  },
  {
   "cell_type": "code",
   "execution_count": null,
   "id": "8ae984d6-e7a3-47a3-8aca-33b9e91cfdf5",
   "metadata": {},
   "outputs": [],
   "source": []
  },
  {
   "cell_type": "markdown",
   "id": "765a4d49-bd28-485f-a5a7-c223c8c6e7c1",
   "metadata": {},
   "source": [
    "Q5. How does the Ridge Regression model perform in the presence of multicollinearity?\n",
    "\n",
    "ans:\n",
    "    \n",
    "Ridge Regression is particularly useful when multicollinearity is present in the data. Multicollinearity occurs when two or more predictor variables are highly correlated with each other, which can lead to unstable and unreliable estimates of the regression coefficients in ordinary least squares regression.\n",
    "\n",
    "In Ridge Regression, the regularization term adds a penalty to the sum of squared coefficients, which helps to reduce the impact of multicollinearity by shrinking the coefficients of correlated variables towards zero. This reduces the variance in the estimates and leads to more stable and reliable predictions.\n",
    "\n",
    "In fact, Ridge Regression can even improve the performance of the model in the presence of multicollinearity, as it can effectively trade-off bias and variance in the estimates. By reducing the variance, Ridge Regression can help to reduce the risk of overfitting, which can be particularly problematic when multicollinearity is present."
   ]
  },
  {
   "cell_type": "code",
   "execution_count": null,
   "id": "0c439a23-e508-4bd2-b02f-bf4b944d489a",
   "metadata": {},
   "outputs": [],
   "source": []
  },
  {
   "cell_type": "markdown",
   "id": "a2c4ec0c-67ab-4b56-8f5a-873c7f90d981",
   "metadata": {},
   "source": [
    "Q6. Can Ridge Regression handle both categorical and continuous independent variables?\n",
    "\n",
    "ans:\n",
    "    \n",
    "Yes, Ridge Regression can handle both categorical and continuous independent variables, as long as they are properly encoded.\n",
    "\n",
    "For categorical variables, they need to be transformed into a set of binary variables with the help of One Hot Encoding"
   ]
  },
  {
   "cell_type": "code",
   "execution_count": null,
   "id": "1d56dc4d-7705-4fa3-bffb-05b6c0d57538",
   "metadata": {},
   "outputs": [],
   "source": []
  },
  {
   "cell_type": "markdown",
   "id": "0862532a-397c-4e3a-8ba4-cf40462e7346",
   "metadata": {},
   "source": [
    "Q7. How do you interpret the coefficients of Ridge Regression?\n",
    "\n",
    "ans:\n",
    "    \n",
    "The interpretation of coefficients in Ridge Regression represents the change in the response variable for a one-unit change in the corresponding independent variable, holding all other variables constant."
   ]
  },
  {
   "cell_type": "code",
   "execution_count": null,
   "id": "22f1a177-5fee-4e59-b74b-8404b932ae38",
   "metadata": {},
   "outputs": [],
   "source": []
  },
  {
   "cell_type": "markdown",
   "id": "72927e91-8c9c-4b34-83b3-7692ae64147b",
   "metadata": {},
   "source": [
    "Q8. Can Ridge Regression be used for time-series data analysis? If yes, how?\n",
    "\n",
    "ans:\n",
    "    \n",
    "Yes, Ridge Regression can be used for time-series data analysis. Ridge Regression is a regularization technique used to prevent overfitting in linear regression models. In time-series analysis, Ridge Regression can be used to predict future values of a time series based on past observations.\n",
    "\n",
    "One way to use Ridge Regression for time-series data analysis is to transform the time-series data into a regression problem by using a sliding window approach. This involves splitting the time series into fixed-size windows and using the data within each window to predict the next value of the time series. The window size can be optimized using cross-validation techniques.\n",
    "\n",
    "Once the data has been transformed into a regression problem, Ridge Regression can be used to fit a linear model to the data. The regularization parameter lambda can be tuned using cross-validation techniques to prevent overfitting and improve the predictive performance of the model.\n",
    "\n",
    "Another way to use Ridge Regression for time-series data analysis is to incorporate lagged variables into the model. This involves including past values of the time series as features in the regression model. Ridge Regression can be used to fit a linear model to the data with the inclusion of these lagged variables. The regularization parameter lambda can be tuned to prevent overfitting."
   ]
  },
  {
   "cell_type": "code",
   "execution_count": null,
   "id": "896e1913-8a6b-4be4-b572-572526577c20",
   "metadata": {},
   "outputs": [],
   "source": []
  }
 ],
 "metadata": {
  "kernelspec": {
   "display_name": "Python 3 (ipykernel)",
   "language": "python",
   "name": "python3"
  },
  "language_info": {
   "codemirror_mode": {
    "name": "ipython",
    "version": 3
   },
   "file_extension": ".py",
   "mimetype": "text/x-python",
   "name": "python",
   "nbconvert_exporter": "python",
   "pygments_lexer": "ipython3",
   "version": "3.10.8"
  }
 },
 "nbformat": 4,
 "nbformat_minor": 5
}
