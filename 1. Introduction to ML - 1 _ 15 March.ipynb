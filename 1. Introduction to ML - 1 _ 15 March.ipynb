{
 "cells": [
  {
   "cell_type": "markdown",
   "id": "b8151213-1029-4573-aba9-38f34023de73",
   "metadata": {},
   "source": [
    "                                                    15 March Machine Learning 1 "
   ]
  },
  {
   "cell_type": "markdown",
   "id": "a2d983b3-d881-4420-ab20-ae4be98ffaf4",
   "metadata": {},
   "source": [
    "Q1. Explain following\n",
    "\n",
    "ans : \n",
    "    \n",
    "    Artificial Intelligence: Artificial intelligence is the simulation of human intelligence processes by machines, especially computer systems.\n",
    "    eg : \n",
    "        self driving car\n",
    "        alexa\n",
    "        \n",
    "    Machine Learning : It provides statistical tool to analyze, visualize, predictive models, forecasting e.t.c\n",
    "    eg: \n",
    "        product Recommendation system in Amazon\n",
    "        movies Recommendation system in Netflix\n",
    "        \n",
    "    Deep learning : Deep learning is a machine learning technique that teaches computers to do what comes naturally to humans: learn by example. \n",
    "    eg: \n",
    "        Object detection\n",
    "        Image Recognition\n",
    "    "
   ]
  },
  {
   "cell_type": "code",
   "execution_count": null,
   "id": "570850ee-d1dc-43d7-bd54-8bf894f1e1d9",
   "metadata": {},
   "outputs": [],
   "source": []
  },
  {
   "cell_type": "markdown",
   "id": "776a3178-d31f-40ce-a8d8-556cd6ef82be",
   "metadata": {},
   "source": [
    "Q2. Supervised Learning\n",
    "\n",
    "ans : \n",
    "    \n",
    "    Using Historical and labeled data if our machine learning model can predict the value, then it's called supervise learning.\n",
    "    \n",
    "    eg: \n",
    "        predict the price of a house based on house size, no of rooms - Continious task.\n",
    "        based on hour of study and hour of play time, predict the result of student whether he /she is  pass or faill "
   ]
  },
  {
   "cell_type": "code",
   "execution_count": null,
   "id": "c9d8b659-b316-40b1-a865-edd6b9d3e7b9",
   "metadata": {},
   "outputs": [],
   "source": []
  },
  {
   "cell_type": "markdown",
   "id": "07966074-477f-4d73-9051-7c221e175042",
   "metadata": {},
   "source": [
    "Q3. Unsupervised learning\n",
    "\n",
    "ans: \n",
    "    \n",
    "    it applies to unlabeled data and it help us to make some groups/clusters based on similar type of data points. \n",
    "    \n",
    "    eg : \n",
    "        \n",
    "        predict the sales count of a product based on customer type. we can make group of customers like below.\n",
    "        1. high salary high expenses.\n",
    "        2. high salary low expenses\n",
    "        3. low salary high expenses.\n",
    "        4. low salary low expenses."
   ]
  },
  {
   "cell_type": "code",
   "execution_count": null,
   "id": "283747c2-f4aa-4549-a981-9dbf1338aa73",
   "metadata": {},
   "outputs": [],
   "source": []
  },
  {
   "cell_type": "markdown",
   "id": "d0aff58f-4a23-4f58-a433-c478a9f2aa02",
   "metadata": {},
   "source": [
    "Q4. Diff b/w AI, ML, DL and DS.\n",
    "\n",
    "ans: \n",
    "    \n",
    "Artificial Intelligence: Artificial intelligence is the simulation of human intelligence processes by machines, especially computer systems.\n",
    "eg : \n",
    "    self driving car\n",
    "    alexa\n",
    "    \n",
    "Machine Learning : It provides statistical tool to analyze, visualize, predictive models, forecasting e.t.c\n",
    "eg: \n",
    "    product Recommendation system in Amazon\n",
    "    movies Recommendation system in Netflix\n",
    "    \n",
    "Deep learning : Deep learning is a machine learning technique that teaches computers to do what comes naturally to humans: learn by example. \n",
    "eg: \n",
    "    Object detection\n",
    "    Image Recognition\n",
    "    \n",
    "Data Science: Data science combines math and statistics, specialized programming, advanced analytics, artificial intelligence (AI), machine learning and deep learning with specific subject matter expertise to uncover actionable insights hidden in an organization’s data."
   ]
  },
  {
   "cell_type": "code",
   "execution_count": null,
   "id": "575d1182-3bbd-43b5-b4d0-04d7e859dbe8",
   "metadata": {},
   "outputs": [],
   "source": []
  },
  {
   "cell_type": "markdown",
   "id": "35dfe33c-cfdf-4883-8708-9b615c8c9fe5",
   "metadata": {},
   "source": [
    "Q5. Diff between Supervised, unsupervised and semi supervised learning \n",
    "\n",
    "ans: \n",
    "    \n",
    "    Supervised Learning :\n",
    "        Using Historical and labeled data if our machine learning model can predict the value, then it's called supervise learning.\n",
    "        \n",
    "    Unsupervised Learning :\n",
    "        it applies to unlabeled data and it help us to make some groups/clusters based on similar type of data points. \n",
    "        \n",
    "    Semi supervised learning:\n",
    "        based on historical and labeled data (supervised ) if we can cluster those data points in some category (unsupervised) its called Semi supervised learning."
   ]
  },
  {
   "cell_type": "code",
   "execution_count": null,
   "id": "5836da35-9dd5-48fe-870f-65a117f7d861",
   "metadata": {},
   "outputs": [],
   "source": []
  },
  {
   "cell_type": "markdown",
   "id": "42111309-9bc4-4ae7-8e6f-e30ae4f8087b",
   "metadata": {},
   "source": [
    "Q6. Train test and validation split\n",
    "\n",
    "ans: \n",
    "    \n",
    "    train : \n",
    "        It is the set of data that is used to train and make the model learn the hidden features/patterns in the data.\n",
    "        \n",
    "    TValidation: \n",
    "        it contain validation set of data, which is separate from the training set, that is used to validate our model performance during training.\n",
    "        \n",
    "     Test: \n",
    "        The test set is a separate set of data used to test the model after completing the training.\n",
    "        \n",
    "Example : \n",
    "    \n",
    "    Train : Student read the text book and prepare question answer.\n",
    "    Validation : based on his understanding, he tries to solve some question annswer from another book\n",
    "    test: the score student obtain in the final exam at school\n",
    "        "
   ]
  },
  {
   "cell_type": "code",
   "execution_count": null,
   "id": "3e8af6fb-3606-4ad9-bd5e-bcb6a4433688",
   "metadata": {},
   "outputs": [],
   "source": []
  },
  {
   "cell_type": "markdown",
   "id": "721a5bf7-23f4-49d9-959a-6a9503333dd3",
   "metadata": {},
   "source": [
    "Q7. Unsupervised learning and Anomaly Detection \n",
    "\n",
    "ans:\n",
    "\n",
    "    there are several alogorith to detect anomaly from a dataset.\n",
    "    e.g Mahalanobis Distance\n",
    "    \n",
    "    \n",
    "    "
   ]
  },
  {
   "cell_type": "code",
   "execution_count": null,
   "id": "6e8b51a4-3070-4cb0-8572-b67223f83085",
   "metadata": {},
   "outputs": [],
   "source": []
  },
  {
   "cell_type": "code",
   "execution_count": null,
   "id": "ed077a2f-c1bd-41c2-bca9-21ec17559ca2",
   "metadata": {},
   "outputs": [],
   "source": [
    "Q8. Commonly used supervised and unsupervised learning algo.\n",
    "\n",
    "ans: \n",
    "    \n",
    "    supervised learning algo:\n",
    "        \n",
    "        Linear regression for regression problems.\n",
    "        Random forest for classification and regression problems.\n",
    "        Support vector machines for classification problems.\n",
    "\n",
    "        \n",
    "    Unsupervised learning algo:\n",
    "        \n",
    "        k-means for clustering problems.\n",
    "        Apriori algorithm for association rule learning problems.\n"
   ]
  }
 ],
 "metadata": {
  "kernelspec": {
   "display_name": "Python 3 (ipykernel)",
   "language": "python",
   "name": "python3"
  },
  "language_info": {
   "codemirror_mode": {
    "name": "ipython",
    "version": 3
   },
   "file_extension": ".py",
   "mimetype": "text/x-python",
   "name": "python",
   "nbconvert_exporter": "python",
   "pygments_lexer": "ipython3",
   "version": "3.10.8"
  }
 },
 "nbformat": 4,
 "nbformat_minor": 5
}
